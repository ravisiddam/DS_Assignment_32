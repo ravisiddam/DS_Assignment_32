{
 "cells": [
  {
   "cell_type": "code",
   "execution_count": 4,
   "metadata": {},
   "outputs": [
    {
     "name": "stdout",
     "output_type": "stream",
     "text": [
      "enter your stringACADGILD\n",
      "['A', 'C', 'A', 'D', 'G', 'I', 'L', 'D']\n"
     ]
    }
   ],
   "source": [
    "s = input('enter your string')\n",
    "mylist1 = list(s)\n",
    "print(mylist1)"
   ]
  },
  {
   "cell_type": "code",
   "execution_count": 12,
   "metadata": {},
   "outputs": [
    {
     "name": "stdout",
     "output_type": "stream",
     "text": [
      "['x', 'xx', 'xxx', 'xxxx', 'y', 'yy', 'yyy', 'yyyy', 'z', 'zz', 'zzz', 'zzzz']\n"
     ]
    }
   ],
   "source": [
    "x = 'x'\n",
    "y = 'y'\n",
    "z = 'z'\n",
    "mylist2 = []\n",
    "for i in range(1,5):\n",
    "    mylist2.append(x*i)\n",
    "for i in range(1,5):\n",
    "    mylist2.append(y*i)\n",
    "for i in range(1,5):\n",
    "    mylist2.append(z*i)\n",
    "print(mylist2)"
   ]
  },
  {
   "cell_type": "code",
   "execution_count": 14,
   "metadata": {},
   "outputs": [
    {
     "name": "stdout",
     "output_type": "stream",
     "text": [
      "['x', 'y', 'z', 'xx', 'yy', 'zz', 'xx', 'yy', 'zz', 'xxxx', 'yyyy', 'zzzz']\n"
     ]
    }
   ],
   "source": [
    "mylist3 = []\n",
    "\n",
    "for i in range(1,5):\n",
    "    if i == 3:\n",
    "        i =2\n",
    "    mylist3.append(x*i)\n",
    "    mylist3.append(y*i)\n",
    "    mylist3.append(z*i)\n",
    "print(mylist3)"
   ]
  },
  {
   "cell_type": "code",
   "execution_count": 20,
   "metadata": {},
   "outputs": [
    {
     "name": "stdout",
     "output_type": "stream",
     "text": [
      "[[2], [3], [4], [3], [4], [5], [4], [5], [6]]\n"
     ]
    }
   ],
   "source": [
    "mylist4=[]\n",
    "for i in range(2,5):\n",
    "    mylist4.append([i])\n",
    "    mylist4.append([i+1])\n",
    "    mylist4.append([i+2])\n",
    "print(mylist4)"
   ]
  },
  {
   "cell_type": "code",
   "execution_count": 22,
   "metadata": {},
   "outputs": [
    {
     "name": "stdout",
     "output_type": "stream",
     "text": [
      "[[2, 3, 4, 5], [3, 4, 5, 6], [4, 5, 6, 7], [5, 6, 7, 8]]\n"
     ]
    }
   ],
   "source": [
    "mylist5=[]\n",
    "sublist1=[]\n",
    "sublist2=[]\n",
    "sublist3=[]\n",
    "sublist4=[]\n",
    "for i in range(2,6):\n",
    "    sublist1.append(i)\n",
    "    sublist2.append(i+1)\n",
    "    sublist3.append(i+2)\n",
    "    sublist4.append(i+3)\n",
    "mylist5.append(sublist1)\n",
    "mylist5.append(sublist2)\n",
    "mylist5.append(sublist3)\n",
    "mylist5.append(sublist4)\n",
    "print(mylist5)"
   ]
  },
  {
   "cell_type": "code",
   "execution_count": 32,
   "metadata": {},
   "outputs": [
    {
     "name": "stdout",
     "output_type": "stream",
     "text": [
      "[(1, 1), (2, 1), (3, 1), (1, 2), (2, 2), (3, 2), (1, 3), (2, 3), (3, 3)]\n"
     ]
    }
   ],
   "source": [
    "i=1\n",
    "y=1\n",
    "mylist6=[]\n",
    "\n",
    "for y in range(1,4):\n",
    "    mylist6.append(tuple([i,y]))\n",
    "    mylist6.append(tuple([i+1,y]))\n",
    "    mylist6.append(tuple([i+2,y]))\n",
    "\n",
    "\n",
    "print(mylist6)"
   ]
  },
  {
   "cell_type": "code",
   "execution_count": null,
   "metadata": {},
   "outputs": [],
   "source": []
  }
 ],
 "metadata": {
  "kernelspec": {
   "display_name": "Python 3",
   "language": "python",
   "name": "python3"
  },
  "language_info": {
   "codemirror_mode": {
    "name": "ipython",
    "version": 3
   },
   "file_extension": ".py",
   "mimetype": "text/x-python",
   "name": "python",
   "nbconvert_exporter": "python",
   "pygments_lexer": "ipython3",
   "version": "3.6.5"
  }
 },
 "nbformat": 4,
 "nbformat_minor": 2
}
